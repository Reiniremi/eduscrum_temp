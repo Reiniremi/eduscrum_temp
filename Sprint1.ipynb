{
 "cells": [
  {
   "cell_type": "markdown",
   "metadata": {},
   "source": [
    "![alt text](Bilder/Logo_HS_Mannheim2.png \"Logo\")"
   ]
  },
  {
   "cell_type": "markdown",
   "metadata": {},
   "source": [
    "## Inhalte dieses Kurses\n",
    "\n",
    "- [Erste Schritte](Erste_Schritte.ipynb)\n",
    "- [Python installieren und ausführen](Installation.ipynb)\n",
    "\n",
    "\n",
    "- [**Sprint 1: Grundlagen und Numpy**](Sprint1.ipynb)\n",
    "- [Sprint 2: Grafiken mit Matplotlib](Sprint2.ipynb)\n",
    "- [Sprint 3: Datenanalyse](Sprint3.ipynb)\n",
    "- [Sprint 4: Sympy](Sprint4.ipynb)\n",
    "- [Sprint 5: Funktionen](Sprint5.ipynb)"
   ]
  },
  {
   "cell_type": "markdown",
   "metadata": {},
   "source": [
    "# Sprint 1\n",
    "# Grundlagen und Numpy\n",
    "In diesem ersten Sprint werden Sie lernen einfache Rechnungen mit Python auszuführen und Sie lernen die Bibliothek `numpy` kennen. Mit Hilfe dieser Bibliothek können Sie auch Vektorrechnung mit Python durchführen. Am Ende des Notebooks finden Sie Mathe- und Physikübungsaufgaben, die sich mit Hilfe von Python lösen lassen."
   ]
  },
  {
   "cell_type": "markdown",
   "metadata": {},
   "source": [
    "## Basics Python\n",
    "Python ist eine Skriptsprache. Dadurch ist es zwar langsamer als andere Sprache wie z.B. C++, aber auch einfacher zu benutzen. Gerade wegen seiner Einfachheit ist Python mittlerweile in der Wissenschaft und Industrie sehr weit verbreitet.\n",
    "\n",
    "Programmierung besteht immer aus der Aneinanderreihung von Befehlen die der Interpreter dann ausführt. Der Pythoncode steht dabei immer in den grau unterlegten Zellen, vor diesen Zellen steht immer `ln[]:` . Es ist wichtig, dass Sie immer alle dieser Zellen *nacheinander* mit `Shift` + `Enter` ausführen. Sobald eine Zelle ausgeführt wurde erscheint in der eckigen Klammer eine Zahl. Neben der ersten grauen Box sollte dann `ln[1]` stehen, in der zweiten `ln[2]`, usw. ."
   ]
  },
  {
   "cell_type": "markdown",
   "metadata": {},
   "source": [
    "### einfache Rechenoperationen\n",
    "In Python kann man Zahlen addieren, subtrahieren, multiplizieren und dividieren. Für die Addition und Subtraktion verwendet man ganz normal `+`und `-`. Für die Multiplikation wird ein `*`verwendent und für die Division `/`. Um einen Kommentar zu schreiben verwendet man `#`."
   ]
  },
  {
   "cell_type": "code",
   "execution_count": null,
   "metadata": {},
   "outputs": [],
   "source": [
    "30+12 # addiert 30 und 12"
   ]
  },
  {
   "cell_type": "code",
   "execution_count": null,
   "metadata": {},
   "outputs": [],
   "source": [
    "50-8 # subtrahiert 8 von 50"
   ]
  },
  {
   "cell_type": "code",
   "execution_count": null,
   "metadata": {},
   "outputs": [],
   "source": [
    "21*2 # multipliziert 21 mit 2"
   ]
  },
  {
   "cell_type": "code",
   "execution_count": null,
   "metadata": {},
   "outputs": [],
   "source": [
    "84/2 # dividiert 84  durch 2"
   ]
  },
  {
   "cell_type": "markdown",
   "metadata": {},
   "source": [
    "Für Potenzen verwendet man die Schreibweise `**`:"
   ]
  },
  {
   "cell_type": "code",
   "execution_count": null,
   "metadata": {},
   "outputs": [],
   "source": [
    "3**2 # berechnet 3^2"
   ]
  },
  {
   "cell_type": "markdown",
   "metadata": {},
   "source": [
    "### Variablen\n",
    "Sie können in Python Variablen Werte zuweisen. Dabei ist es immer gut sich sinnvolle Namen auszudenken, damit alles übersichtlich bleibt. \n"
   ]
  },
  {
   "cell_type": "code",
   "execution_count": null,
   "metadata": {},
   "outputs": [],
   "source": [
    "a = 10"
   ]
  },
  {
   "cell_type": "markdown",
   "metadata": {},
   "source": [
    "Um einen Variable auszugeben verwendet man in Python die Funktion `print`. Schauen Sie sich nun folgende Zeilen an und ändern Sie diese so, dass am Ende `42` ausgegeben wird."
   ]
  },
  {
   "cell_type": "code",
   "execution_count": null,
   "metadata": {},
   "outputs": [],
   "source": [
    "x = 'zweiundvierzig' #zweiundvierzig als \"String\" (Zeichenkette)\n",
    "y = 42 # 42 als ganze Zahl \n",
    "print(x)"
   ]
  },
  {
   "cell_type": "code",
   "execution_count": null,
   "metadata": {},
   "outputs": [],
   "source": [
    "# Ihre Lösung hier"
   ]
  },
  {
   "cell_type": "markdown",
   "metadata": {},
   "source": [
    "Doppelklicken Sie <b>hier</b> für die Lösung.\n",
    "<!-- Lösung: \n",
    "        print(y)\n",
    "-->"
   ]
  },
  {
   "cell_type": "markdown",
   "metadata": {},
   "source": [
    "# Die Bibliothek Numpy\n",
    "Numpy ist ein Bibliothek für Python, die sehr nützlich ist um mit Vektoren zu rechnen. Im Laufe des Kurses werden Sie noch mehr solcher Bibliotheken kennenlernen. Bibliotheken sind deshalb praktisch, weil sie uns sehr viel Arbeit abnehmen. Dinge die sehr oft gebraucht werden (z.B. Vektorrechnung) müssen so nicht immer neu programmiert werden, sondern man kann die vorgefertigte Bibliothek nutzen. Numpy beinhaltet zum Beispiel Funktionen die das Kreuz- und Skalarprodukt berechnen. \n",
    "Um Numpy zu benutzen müssen Sie es zunächst importieren:"
   ]
  },
  {
   "cell_type": "code",
   "execution_count": null,
   "metadata": {},
   "outputs": [],
   "source": [
    "import numpy as np"
   ]
  },
  {
   "cell_type": "markdown",
   "metadata": {},
   "source": [
    "Numpy wurde nun unter dem Namen `np` importiert und Sie können es nun benutzen. "
   ]
  },
  {
   "cell_type": "markdown",
   "metadata": {},
   "source": [
    "## Vektoren mit Numpy\n",
    "Um einen Vektor mit Numpy zu erstellen verwenden Sie die Funktion `np.array`. Auch Vektoren können wieder mit `print` angezeigt werden."
   ]
  },
  {
   "cell_type": "code",
   "execution_count": null,
   "metadata": {},
   "outputs": [],
   "source": [
    "firstVector=np.array([1, 0, 0])\n",
    "print(firstVector)"
   ]
  },
  {
   "cell_type": "markdown",
   "metadata": {},
   "source": [
    "Erstellen sie nun einen zweiten Vektor $ \\vec{v} = \\left( \\begin{array}{c} 0 \\\\9 \\\\ 1 \\\\ \\end{array}\\right)$ und lassen sich diesen ausgeben."
   ]
  },
  {
   "cell_type": "code",
   "execution_count": null,
   "metadata": {},
   "outputs": [],
   "source": [
    "# Ihre Lösung hier"
   ]
  },
  {
   "cell_type": "markdown",
   "metadata": {},
   "source": [
    "Doppelklicken Sie <b>hier</b> für die Lösung.\n",
    "<!-- Lösung: \n",
    "        v=np.array([0,9,1])\n",
    "        print(v)\n",
    "-->"
   ]
  },
  {
   "cell_type": "markdown",
   "metadata": {},
   "source": [
    "Ein anderer Weg Vektoren zu definieren, ist die `np.arange` Funktion zu verwenden:"
   ]
  },
  {
   "cell_type": "code",
   "execution_count": null,
   "metadata": {},
   "outputs": [],
   "source": [
    "v = np.arange(10)\n",
    "print(v)"
   ]
  },
  {
   "cell_type": "markdown",
   "metadata": {},
   "source": [
    "Wenn Sie Werte zwischen einem Start und Zielwert in linearem Abstand anordnen wollen, können Sie `np.arange` folgendermaßen verwenden:"
   ]
  },
  {
   "cell_type": "code",
   "execution_count": null,
   "metadata": {},
   "outputs": [],
   "source": [
    "Start = 0\n",
    "Ziel = 5\n",
    "Inkrement = 0.5 #\"Abstand\" 0.5 zwischen 2 Elementen\n",
    "v = np.arange(Start, Ziel, Inkrement)\n",
    "print(v)"
   ]
  },
  {
   "cell_type": "markdown",
   "metadata": {},
   "source": [
    "Beachten Sie dabei, dass der Zielwert nicht Teil des Vektors ist.\n",
    "\n",
    "Versuchen Sie nun einen Vektor mit 100 Elementen von 10 bis 100 zu erstellen, mit Inkrement 10:"
   ]
  },
  {
   "cell_type": "code",
   "execution_count": null,
   "metadata": {},
   "outputs": [],
   "source": [
    "# Ihre Lösung hier"
   ]
  },
  {
   "cell_type": "markdown",
   "metadata": {},
   "source": [
    "Doppelklicken Sie <b>hier</b> für die Lösung.\n",
    "<!-- Lösung: \n",
    "v = np.arange(10,110,10)\n",
    "print(v)\n",
    "-->"
   ]
  },
  {
   "cell_type": "markdown",
   "metadata": {},
   "source": [
    "Ein weiterer Weg Vektoren zu erstellen sind die Funktion `np.linspace` und `np.logspace`. Bei benötigen einen Start- und Endwert. Anders als bei `arange` wird dann nicht der Abstand von einen Element zum nächsten angeben, sondern wieviele Elemente man insgesamt erhalten möchte. Ein weiter Unterschied ist, dass der Endwert enthalten ist.\n",
    "'np.linspace' ordnet die einzelnen Elemente im Vektor linear an, `np.logspace` ordnet sie in logarithmischen Abstand an. "
   ]
  },
  {
   "cell_type": "code",
   "execution_count": null,
   "metadata": {},
   "outputs": [],
   "source": [
    "v = np.linspace(1,100,10)\n",
    "print(v)"
   ]
  },
  {
   "cell_type": "code",
   "execution_count": null,
   "metadata": {},
   "outputs": [],
   "source": [
    "v = np.logspace(1,9,9)\n",
    "print(v)"
   ]
  },
  {
   "cell_type": "markdown",
   "metadata": {},
   "source": [
    "Um nur auf ein bestimmtes Element zuzugreifen, schreibt man den Index in eckigen Klammern hinter den Vektor. Python beginnt dabei mit 0 für das erste Element, 1 für das zweite Element usw.. Möchte man auf das letzte Element eines Vektors zugreifen verwendet man -1, für das vorletzte -2, usw. ."
   ]
  },
  {
   "cell_type": "code",
   "execution_count": null,
   "metadata": {},
   "outputs": [],
   "source": [
    "v_3 = v[2] #3. Element in v\n",
    "v_last = v[-1] # letztes Element in v\n",
    "print('3. Element: ', v_3, '; letztes Element: ', v_last)"
   ]
  },
  {
   "cell_type": "markdown",
   "metadata": {},
   "source": [
    "## Vektoralgebra mit Numpy"
   ]
  },
  {
   "cell_type": "markdown",
   "metadata": {},
   "source": [
    "Auch in Python können Sie Vektoren addierung, subtrahieren und multiplizieren. Für die Addition und Siubtraktion verwendet man `+ ` bzw. `-`, für die Multiplikation eines Skalars mit einem Vektoren `*`, für das Skalarprodukt zweiter Vektoren `np.dot` und für das Kreuzprodukt `np.cross`."
   ]
  },
  {
   "cell_type": "code",
   "execution_count": null,
   "metadata": {},
   "outputs": [],
   "source": [
    "v = np.array([2, 5, 6])\n",
    "w = np.array([1, 2, 3])\n",
    "a = 5\n",
    "\n",
    "add = v+w\n",
    "sub = v-w\n",
    "mult = a*v\n",
    "skal_mult = np.dot(v,w)\n",
    "kreuz = np.cross(v,w)\n",
    "\n",
    "print('v + w = ', add)\n",
    "print('v - w = ', sub)\n",
    "print('a* v = ', mult)\n",
    "print('v * w = ', skal_mult)\n",
    "print('v x w = ', kreuz)"
   ]
  },
  {
   "cell_type": "markdown",
   "metadata": {},
   "source": [
    "In Mathematik lernen Sie in Sprint 1 wie man die Norm eines Vektors berechnet. Mit Python geht das mit `np.linalg.norm`:"
   ]
  },
  {
   "cell_type": "code",
   "execution_count": null,
   "metadata": {},
   "outputs": [],
   "source": [
    "v = np.array([10,9,42])\n",
    "norm_v = np.linalg.norm(v)\n",
    "print('Die Norm von ', v, 'ist: ', norm_v )"
   ]
  },
  {
   "cell_type": "markdown",
   "metadata": {},
   "source": [
    "## Aufgaben Mathematik"
   ]
  },
  {
   "cell_type": "markdown",
   "metadata": {},
   "source": [
    "### Aufgabe 1 (*)\n",
    "In ihrem Mathematikbooklet finden sie folgende Aufgabe. Überprüfen Sie ihre errechneten Ergebnisse mit Python und lassen Sie sich die Ergebnisse mit `print` ausgeben.\n",
    "\n",
    "Berechnen Sie den Betrag der folgenden Vektoren:\n",
    "\n",
    "a) $ \\vec{u} = \\left( \\begin{array}{c} 1 \\\\ 2 \\\\ 3 \\\\ \\end{array}\\right)$\n",
    "\n",
    "b) $ \\vec{v} = \\left( \\begin{array}{c} -0,5 \\\\ 2 \\\\ \\end{array}\\right)$\n",
    "\n",
    "c) $ \\vec{w} = \\left( \\begin{array}{c} -1 \\\\ 2 \\\\ \\frac{6}{3} \\\\ \\end{array}\\right)$\n",
    "\n",
    "d) $ \\vec{n} = \\left( \\begin{array}{c} 0 \\\\ 3 \\\\ \\end{array}\\right)$"
   ]
  },
  {
   "cell_type": "code",
   "execution_count": null,
   "metadata": {},
   "outputs": [],
   "source": [
    "# Ihre Lösung hier"
   ]
  },
  {
   "cell_type": "markdown",
   "metadata": {},
   "source": [
    "Doppelklicken Sie <b>hier</b> für die Lösung.\n",
    "<!-- Lösung: \n",
    "u = np.array([1,2,3])\n",
    "v = np.array([-0.5,2])\n",
    "w = np.array([-1, 2, 6/3])\n",
    "n = np.array([0,3])\n",
    "norm_u = np.linalg.norm(u)\n",
    "norm_v = np.linalg.norm(v)\n",
    "norm_w = np.linalg.norm(w)\n",
    "norm_n = np.linalg.norm(n)\n",
    "print('Die Lösung zu Aufgabenteil a) ist: ', norm_u)\n",
    "print('Die Lösung zu Aufgabenteil b) ist: ', norm_v)\n",
    "print('Die Lösung zu Aufgabenteil c) ist: ', norm_w)\n",
    "print('Die Lösung zu Aufgabenteil d) ist: ', norm_n)\n",
    "-->"
   ]
  },
  {
   "cell_type": "markdown",
   "metadata": {},
   "source": [
    "### Aufgabe 2 (*)\n",
    "Sind die folgenden Vektoren $\\vec{a}$ und $\\vec{b}$ orthogonal?\n",
    "\n",
    "$ \\vec{a} = \\left( \\begin{array}{c} 1 \\\\ 4 \\\\ 3 \\\\ \\end{array}\\right)$\n",
    "\n",
    "$ \\vec{b} = \\left( \\begin{array}{c} 2 \\\\ 3 \\\\ 1 \\\\ \\end{array}\\right)$"
   ]
  },
  {
   "cell_type": "code",
   "execution_count": null,
   "metadata": {},
   "outputs": [],
   "source": [
    "# Ihre Lösung hier"
   ]
  },
  {
   "cell_type": "markdown",
   "metadata": {},
   "source": [
    "Doppelklicken Sie <b>hier</b> für die Lösung.\n",
    "<!-- Lösung: \n",
    "a = np.array([1,4,3])\n",
    "b = np.array([2,3,1])\n",
    "skal_mult = np.dot(a,b)\n",
    "print('Das Skalarprodukt von a und b ist: ', skal_mult, '. Daher sind a und b nicht orthogonal.')\n",
    "-->"
   ]
  },
  {
   "cell_type": "markdown",
   "metadata": {},
   "source": [
    "### Aufgabe 3 (**)\n",
    "Berechnen Sie den Flächeninhalt\n",
    "\n",
    "a) des Dreiecks, das durch die Vektoren $\\vec{a}$ und $\\vec{b}$ aufgespannt wird.\n",
    "\n",
    "b) des Parallelogramms, das durch die Vektoren $\\vec{a}$ und $\\vec{b}$ aufgespannt wird.\n",
    "\n",
    "$ \\vec{a} = \\left( \\begin{array}{c} 7 \\\\ 10 \\\\ 3 \\\\ \\end{array}\\right)$\n",
    "\n",
    "$ \\vec{b} = \\left( \\begin{array}{c} 0 \\\\ 3 \\\\ 1 \\\\ \\end{array}\\right)$"
   ]
  },
  {
   "cell_type": "code",
   "execution_count": null,
   "metadata": {},
   "outputs": [],
   "source": [
    "# Ihre Lösung hier"
   ]
  },
  {
   "cell_type": "markdown",
   "metadata": {},
   "source": [
    "Doppelklicken Sie <b>hier</b> für die Lösung.\n",
    "<!-- Lösung: \n",
    "a = np.array([7,10,3])\n",
    "b = np.array([0,3,1])\n",
    "A_Dreieck = 0.5 * np.linalg.norm(np.cross(a,b))\n",
    "A_Parallelogramm = np.linalg.norm(np.cross(a,b))\n",
    "\n",
    "print('Der Flächeninhalt des Dreiecks ist ', A_Dreieck)\n",
    "print('Der Flächeninhalt des Parallelogramms ist ', A_Parallelogramm)\n",
    "-->"
   ]
  },
  {
   "cell_type": "markdown",
   "metadata": {},
   "source": [
    "## Aufgaben Physik"
   ]
  },
  {
   "cell_type": "markdown",
   "metadata": {},
   "source": [
    "### Aufgabe 1 (*)\n",
    "In Ihrem Physikbooklet finden Sie folgende Aufgabe zur Kräfteaddition:\n",
    "\n",
    "Auf einen Körper wirken folgende Kräfte:\n",
    "\n",
    "$ \\vec{F_{1}} = \\left( \\begin{array}{c} 2,0 \\\\ 5,5 \\\\ 3,3 \\\\ \\end{array}\\right)kN$\n",
    "\n",
    "$ \\vec{F_{2}} = \\left( \\begin{array}{c} -1,5 \\\\ 2,5 \\\\ -10 \\\\ \\end{array}\\right)kN$\n",
    "\n",
    "$ \\vec{F_{3}} = \\left( \\begin{array}{c} 2,5 \\\\ 0,5 \\\\ -1,0 \\\\ \\end{array}\\right)kN$\n",
    "\n",
    "a) Berechnen Sie $\\vec{F}_1+\\vec{F}_2+\\vec{F}_3$. \n",
    " \n",
    "b) Berechnen Sie $\\vec{F}_1-\\vec{F}_2-\\vec{F}_3$. \n",
    " \n",
    "c) Berechnen Sie $2\\vec{F}_1-\\vec{F}_2+3\\vec{F}_3$. \n"
   ]
  },
  {
   "cell_type": "code",
   "execution_count": null,
   "metadata": {},
   "outputs": [],
   "source": [
    "# Ihre Lösung hier"
   ]
  },
  {
   "cell_type": "markdown",
   "metadata": {},
   "source": [
    "Doppelklicken Sie <b>hier</b> für die Lösung.\n",
    "<!-- Lösung: \n",
    "F_1 = np.array([2.0, 5.5, 3.3])\n",
    "F_2 = np.array([-1.5, 2.5, -10])\n",
    "F_3 = np.array([2.5, 0.5, -1.0])\n",
    "a = F_1 + F_2 + F_3\n",
    "b = F_1 -F_2 -F_3\n",
    "c = 2*F_1 - F_2 + 3*F_3\n",
    "print('Die Lösung zu Aufgabenteil a) ist: ', a)\n",
    "print('Die Lösung zu Aufgabenteil b) ist: ', b)\n",
    "print('Die Lösung zu Aufgabenteil c) ist: ', c)\n",
    "-->"
   ]
  },
  {
   "cell_type": "markdown",
   "metadata": {},
   "source": [
    "### Aufgabe 2 (***)\n",
    "Auf einer schiefen Ebene befindet sich die Masse M. \n",
    "\n",
    "![alt text](Bilder/schiefeEbene.png \"schiefe Ebene\")\n",
    "\n",
    "Die Hangabtriebskraft $F_H$ und die Normalkraft $F_N$ sind durch folgende Vektoren gegeben:\n",
    "\n",
    "$ \\vec{F_{H}} = \\left( \\begin{array}{c} -2,0 \\\\ -1,0 \\\\ \\end{array}\\right)N$\n",
    "\n",
    "$ \\vec{F_{N}} = \\left( \\begin{array}{c} 2,0 \\\\ -4,0 \\\\  \\end{array}\\right)N$\n",
    "\n",
    "a) Berechnen Sie die die Gewichtskraft $F_G$\n",
    "\n",
    "b) Überprüfen Sie, dass $F_H$ und $F_N$ orthogonal sind\n",
    "\n",
    "c) Berechnen Sie den Winkel $\\alpha$ (Tipp: $cos^{-1}$ berechnen Sie mit `np.arccos('Winkel')`, das Ergebnis ist im Bogenmaß angegeben!)"
   ]
  },
  {
   "cell_type": "code",
   "execution_count": null,
   "metadata": {},
   "outputs": [],
   "source": [
    "# Ihre Lösung hier"
   ]
  },
  {
   "cell_type": "markdown",
   "metadata": {},
   "source": [
    "Doppelklicken Sie <b>hier</b> für die Lösung.\n",
    "<!-- Lösung: \n",
    "F_H = np.array([-2,-1])\n",
    "F_N = np.array([2,-4])\n",
    "F_G = F_H + F_N\n",
    "print('Die Gewichtskraft ist', F_G,'Newton')\n",
    "check_ortho = np.dot(F_H,F_N)\n",
    "print('Das Skalarprodukt der Hangabtreibskraft und der Normalkraft ist:', 0,'. Die beiden Vektoren sind also orthogonal.')\n",
    "cos_alpha = np.dot(F_N,F_G)/np.dot(np.linalg.norm(F_N),np.linalg.norm(F_G))\n",
    "alpha_rad = np.arccos(cos_alpha)\n",
    "alpha_grad = 180/3.141 *alpha_rad\n",
    "print('Der Neigunswinkel der schiefen Ebene ist: ', alpha_grad,'°, bzw.', alpha_rad, 'rad')\n",
    "-->"
   ]
  },
  {
   "cell_type": "markdown",
   "metadata": {},
   "source": [
    "## Installation\n",
    "Um die Notebooks für die nächsten Sprints verwenden zu können, installieren Sie bitte Jupyter. Eine Anleitung dazu finden Sie [**hier**](Installation.ipynb). "
   ]
  },
  {
   "cell_type": "markdown",
   "metadata": {},
   "source": [
    "[**-> Sprint 2: Grafiken mit Matplotlib**](Sprint2.ipynb)"
   ]
  }
 ],
 "metadata": {
  "kernelspec": {
   "display_name": "Python 3",
   "language": "python",
   "name": "python3"
  },
  "language_info": {
   "codemirror_mode": {
    "name": "ipython",
    "version": 3
   },
   "file_extension": ".py",
   "mimetype": "text/x-python",
   "name": "python",
   "nbconvert_exporter": "python",
   "pygments_lexer": "ipython3",
   "version": "3.7.3"
  }
 },
 "nbformat": 4,
 "nbformat_minor": 2
}
