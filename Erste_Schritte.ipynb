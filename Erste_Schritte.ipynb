{
 "cells": [
  {
   "cell_type": "markdown",
   "metadata": {},
   "source": [
    "![alt text](Bilder/Logo_HS_Mannheim2.png \"Logo\")"
   ]
  },
  {
   "cell_type": "markdown",
   "metadata": {},
   "source": [
    "# Python Einführungskurs an der Hochschule Mannheim  "
   ]
  },
  {
   "cell_type": "markdown",
   "metadata": {},
   "source": [
    "![](https://www.python.org/static/img/python-logo.png)"
   ]
  },
  {
   "cell_type": "markdown",
   "metadata": {},
   "source": [
    "## Inhalte dieses Kurses\n",
    "\n",
    "- [**Erste Schritte**](Erste_Schritte.ipynb)\n",
    "- [Python installieren und ausführen](Installation.ipynb)\n",
    "\n",
    "\n",
    "- [Sprint 1: Grundlagen und Numpy](Sprint1.ipynb)\n",
    "- [Sprint 2: Grafiken mit Matplotlib](Sprint2.ipynb)\n",
    "- [Sprint 3: Datenanalyse](Sprint3.ipynb)\n",
    "- [Sprint 4: Sympy](Sprint4.ipynb)\n",
    "- [Sprint 5: Funktionen](Sprint5.ipynb)\n"
   ]
  },
  {
   "cell_type": "markdown",
   "metadata": {},
   "source": [
    "## Erste Schritte!\n",
    "\n",
    "Dieser Kurs besteht aus interaktiven _[Jupyter Notebooks](http://jupyter.org)_. Auf was Sie gerade jetzt schauen ist ein solches Jupyter Notebook. Man kann in einem Notebook Code ausführen und gleichzeitig Texte, Gleichungen, Bilder und noch vieles mehr darstellen. Was in den grau unterlegen Zellen steht, ist Python-Code, der Rest ist entweder Text, Bilder oder sonstiges. In einem Notebook ist alles in einem: die Anleitung, der Code und die Ausgabe des Codes. Das ist ziemlich praktisch und deshalb verwenden wir es hier.\n",
    "\n",
    "Hier in dieser Veranstaltung wird die Sprache Python benutzt und die ersten Notebooks stehen online zur Verfügung. Für diese Einführung wird also nichts weiter als ein funktionierender Internetanschluss benötigt. \n",
    "Ändern Sie einfach mal in der folgenden Zeile den Namen (in ' ') und drücken  `[Shift]` + `[Enter]`.\n",
    "\n"
   ]
  },
  {
   "cell_type": "code",
   "execution_count": null,
   "metadata": {},
   "outputs": [],
   "source": [
    "name = 'Max Mustermann'\n",
    "print('Willkommen '+ name + ' beim Python Tutorial für die Veranstaltungen Physik & Mathematik 1')\n"
   ]
  },
  {
   "cell_type": "markdown",
   "metadata": {},
   "source": [
    "Sie werden in den Notebooks immer wieder solche Zellen finden, in denen Sie etwas ändern, hinzufügen oder selbst schreiben sollen.\n",
    "\n",
    "Für die Veranstaltung sollte jede\\*r Phyton und Jupyter installieren. Nur so können Sie die Notebooks auch offline nutzen und selbst welche erstellen. Wenn Sie das schon jetzt erledigen möchten, finden Sie [**hier**](Installation.ipynb) ein weiteres Notebook, in dem alles erklärt ist. Spätestens nach dem ersten Sprint sollten Sie Jupyter installiert haben."
   ]
  },
  {
   "cell_type": "markdown",
   "metadata": {},
   "source": [
    "## Die Programmiersprache Python\n",
    "Warum verwenden wir hier eigentlich Python und wozu braucht man das in Mathe oder Physik?\n",
    "Heutzutage kommt man in der Mathematik und Physik nicht mehr ohne die Hilfe von Computern aus. Die Rechnungen sind einfach zu komplex. Sie werden hier beispielsweise lernen Daten graphisch darzustellen. Das sieht nicht nur schöner aus, es geht auch schneller als zu zeichnen. \n",
    "Python ist als  Programmiersprache sehr beliebt, weil es sehr gut zu lesen ist und sich daher leicht lernen lässt. Deshalb ist es in der Wissenschaft und Industrie sehr beliebt. Sie werden schnell sehen, wie viel einfacher und lesbarer Python ist als z.B. C.\n",
    "\n",
    "Der Name Python kommt übrigens von der Monty Python Comedygruppe und nicht von der Schlangenart.\n",
    "![](https://media-cdn.sueddeutsche.de/image/sz.1.4628138/704x396)\n",
    "\n",
    "Sie können nun mit dem ersten Sprint loslegen!\n"
   ]
  },
  {
   "cell_type": "markdown",
   "metadata": {},
   "source": [
    "[**-> Sprint 1: Grundlagen und Numpy**](Sprint1.ipynb)"
   ]
  },
  {
   "cell_type": "markdown",
   "metadata": {},
   "source": [
    "\n",
    "\n"
   ]
  }
 ],
 "metadata": {
  "kernelspec": {
   "display_name": "Python 3",
   "language": "python",
   "name": "python3"
  },
  "language_info": {
   "codemirror_mode": {
    "name": "ipython",
    "version": 3
   },
   "file_extension": ".py",
   "mimetype": "text/x-python",
   "name": "python",
   "nbconvert_exporter": "python",
   "pygments_lexer": "ipython3",
   "version": "3.7.3"
  }
 },
 "nbformat": 4,
 "nbformat_minor": 2
}
