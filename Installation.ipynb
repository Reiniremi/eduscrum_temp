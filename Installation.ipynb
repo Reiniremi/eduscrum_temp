{
 "cells": [
  {
   "cell_type": "markdown",
   "metadata": {},
   "source": [
    "![alt text](Bilder/Logo_HS_Mannheim2.png \"Logo\")"
   ]
  },
  {
   "cell_type": "markdown",
   "metadata": {},
   "source": [
    "## Inhalte dieses Kurses\n",
    "\n",
    "- [Erste Schritte](Erste_Schritte.ipynb)\n",
    "- [**Python installieren und ausführen**](Installation.ipynb)\n",
    "\n",
    "\n",
    "- [Sprint 1: Grundlagen und Numpy](Sprint1.ipynb)\n",
    "- [Sprint 2: Grafiken mit Matplotlib](Sprint2.ipynb)\n",
    "- [Sprint 3: Datenanalyse](Sprint3.ipynb)\n",
    "- [Sprint 4: Sympy](Sprint4.ipynb)\n",
    "- [Sprint 5: Funktionen](Sprint5.ipynb)"
   ]
  },
  {
   "cell_type": "markdown",
   "metadata": {},
   "source": [
    "# Python Installation"
   ]
  },
  {
   "cell_type": "markdown",
   "metadata": {},
   "source": [
    "Die einfachste Möglichkeit Python, Jupyter und viele wissenschaftlichliche Pakete zu installieren ist die Anaconda Distribution:\n",
    "\n",
    "![](https://www.anaconda.com/wp-content/uploads/2018/06/cropped-Anaconda_horizontal_RGB-1-600x102.png)\n",
    "\n",
    "Eine Videoanleitung zur Installation finden Sie [hier](https://www.youtube.com/watch?v=_DUuzZd0iVA). Im Video wird auch nochmal kurz erklärt, was Jupyter ist und wozu es genutzt werden kann. \n",
    "\n",
    "1. Installieren Sie [Anaconda](https://www.anaconda.com/distribution/) (aktuell Version 3.7 - 64 Bit)\n",
    "2. Laden Sie den gesamten Inhalt des Ordners *Jupyter Notebooks* aus dem Moodle herunter\n",
    "3. Speichern Sie die Inhalte des Ordners unter einem sinnvollen Namen, an einem Ort an dem Sie ihn wiederfinden.\n",
    "4. Öffnen Sie den Anaconda Navigator\n",
    "5. Starten Sie die Jupyter App\n",
    "6. In Ihrem Browser können Sie nun Notebooks öffnen, bearbeiten und erstellen\n",
    "\n",
    "### Mobile Geräte\n",
    "Sollten Sie die Notebooks auf ihrem mobilen Gerät ausführen wollen, ist dies auch möglich. Für Anroid Nutzer\\*innen gibt es [hier](https://www.youtube.com/watch?v=NhhgInFVgpU) eine Videoanleitung welche Apps benötigt werden und wie die Nutzung funktioniert. Später im Kurs werden Sie selbst kleine Programme schreiben. Daher ist eine Tastatur von Vorteil, aber nicht zwingend notwendig."
   ]
  },
  {
   "cell_type": "markdown",
   "metadata": {},
   "source": [
    "# Einführungskurs an der Hochschule"
   ]
  },
  {
   "cell_type": "markdown",
   "metadata": {},
   "source": [
    "Alle Notebooks für diesen Kurs finden Sie in den Moodlekursen der Mathematik 1 bzw. Physik 1. Laden Sie die Notebooks und dazugehörigen Dateien dort herunter und legen Sie sie in einem Ordner ab. Sie können die Notebooks dann in der Jupyter App bearbeiten. Der Einführungskurs startet mit dem Notebook [**Erste Schritte**](Erste_Schritte.ipynb). Wenn Sie den [**ersten Sprint**](Sprint1.ipynb) bereits geschafft haben können Sie direkt mit dem [**zweiten Sprint**](Sprint2.ipynb) weitermachen. \n",
    "\n",
    "Wenn Sie Probleme mit der Installation von Anaconda oder der Benutzung der Jupyter Notebooks haben, wenden Sie sich bitte an ihre\\*n Dozent\\*in.\n",
    "\n",
    "![](https://jupyter.org/assets/main-logo.svg)"
   ]
  },
  {
   "cell_type": "markdown",
   "metadata": {},
   "source": [
    "[**-> Sprint 2: Grafiken mit Matplotlib**](Sprint2.ipynb)"
   ]
  }
 ],
 "metadata": {
  "kernelspec": {
   "display_name": "Python 3",
   "language": "python",
   "name": "python3"
  },
  "language_info": {
   "codemirror_mode": {
    "name": "ipython",
    "version": 3
   },
   "file_extension": ".py",
   "mimetype": "text/x-python",
   "name": "python",
   "nbconvert_exporter": "python",
   "pygments_lexer": "ipython3",
   "version": "3.7.3"
  }
 },
 "nbformat": 4,
 "nbformat_minor": 2
}
